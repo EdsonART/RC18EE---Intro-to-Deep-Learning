{
  "nbformat": 4,
  "nbformat_minor": 0,
  "metadata": {
    "colab": {
      "provenance": []
    },
    "kernelspec": {
      "name": "python3",
      "display_name": "Python 3"
    },
    "language_info": {
      "name": "python"
    },
    "accelerator": "TPU",
    "gpuClass": "standard"
  },
  "cells": [
    {
      "cell_type": "code",
      "source": [
        "import numpy as np"
      ],
      "metadata": {
        "id": "Jqv0OU6QcF6D"
      },
      "execution_count": 1,
      "outputs": []
    },
    {
      "cell_type": "code",
      "execution_count": 6,
      "metadata": {
        "id": "X1xGug2ScCqZ"
      },
      "outputs": [],
      "source": [
        "class LinearRegression:\n",
        "    def __init__(self, learning_rate=0.1, epochs=100):\n",
        "        self.lr = learning_rate\n",
        "        self.epochs = epochs\n",
        "        self.w = None\n",
        "        self.b = None\n",
        "\n",
        "    def fit(self, X, y):\n",
        "        np.random.seed(0)\n",
        "        self.w = np.random.rand(X.shape[1])\n",
        "        self.b = np.random.rand(1)\n",
        "\n",
        "        for e in range(self.epochs):\n",
        "            # Forward pass\n",
        "            y_pred = self.predict(X)\n",
        "\n",
        "            # Cálculo do erro\n",
        "            error = y_pred - y\n",
        "\n",
        "            # Cálculo do gradiente\n",
        "            gradient_w = np.dot(X.T,error) / len(y)\n",
        "            gradient_b = np.mean(error)\n",
        "\n",
        "            # Atualização dos pesos\n",
        "            self.w = self.w - self.lr * gradient_w\n",
        "            self.b = self.b - self.lr * gradient_b\n",
        "\n",
        "    def predict(self, X):\n",
        "        return np.dot(X, self.w) + self.b\n",
        "\n",
        "    def score(self, y_pred, y):\n",
        "        mse = np.mean((y_pred - y)**2)\n",
        "        return mse"
      ]
    },
    {
      "cell_type": "code",
      "source": [
        "# Dados de entrada\n",
        "X_train = np.array([[0, 0], [1, 1], [2, 2], [3, 3], [4, 4]])\n",
        "y_train = np.array([0, 1, 2, 3, 4])"
      ],
      "metadata": {
        "id": "SZfLuubpcKyY"
      },
      "execution_count": 3,
      "outputs": []
    },
    {
      "cell_type": "code",
      "source": [
        "model = LinearRegression()\n",
        "\n",
        "model.fit(X_train,y_train)\n"
      ],
      "metadata": {
        "id": "CC52ZxTNcMG-"
      },
      "execution_count": 7,
      "outputs": []
    },
    {
      "cell_type": "code",
      "source": [
        "X_test = np.array([[5, 5], [6, 6], [7, 7]])\n",
        "y_test = np.array([5, 6, 7])"
      ],
      "metadata": {
        "id": "yANDCDsNcef4"
      },
      "execution_count": 8,
      "outputs": []
    },
    {
      "cell_type": "code",
      "source": [
        "y_pred = model.predict(X_test)\n",
        "model.score(y_pred,y_test)"
      ],
      "metadata": {
        "colab": {
          "base_uri": "https://localhost:8080/"
        },
        "id": "9OWikLm-civ5",
        "outputId": "f1b358ba-c9eb-495c-dfde-510a2fad97d5"
      },
      "execution_count": 9,
      "outputs": [
        {
          "output_type": "execute_result",
          "data": {
            "text/plain": [
              "0.0005434853282853702"
            ]
          },
          "metadata": {},
          "execution_count": 9
        }
      ]
    }
  ]
}