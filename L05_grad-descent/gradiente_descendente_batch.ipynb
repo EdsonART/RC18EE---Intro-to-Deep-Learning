{
  "nbformat": 4,
  "nbformat_minor": 0,
  "metadata": {
    "colab": {
      "provenance": []
    },
    "kernelspec": {
      "name": "python3",
      "display_name": "Python 3"
    },
    "language_info": {
      "name": "python"
    }
  },
  "cells": [
    {
      "cell_type": "code",
      "source": [
        "import numpy as np\n",
        "\n",
        "# Dados de entrada\n",
        "X_train = np.array([[0, 0], [1, 1], [2, 2], [3, 3], [4, 4]])\n",
        "y_train = np.array([0, 1, 2, 3, 4])\n",
        "\n",
        "# Definir taxa de aprendizado e número de épocas\n",
        "lr = 0.1\n",
        "epochs = 20\n",
        "\n",
        "# Inicialização dos pesos aleatoriamente\n",
        "np.random.seed(0)\n",
        "w = np.random.rand(2)\n",
        "b = np.random.rand(1)\n",
        "\n",
        "# Treinamento do modelo\n",
        "for e in range(epochs):\n",
        "    # Forward pass\n",
        "    y_pred = np.dot(X_train, w) + b\n",
        "\n",
        "    # Cálculo do erro\n",
        "    error = y_pred - y_train\n",
        "\n",
        "    # Cálculo do gradiente\n",
        "    #gradient_w = np.dot(X.T,error) / len(y)\n",
        "    gradient_w = np.mean(X_train * error[:, np.newaxis], axis=0)\n",
        "    gradient_b = np.mean(1 * error)\n",
        "\n",
        "    # Atualização dos pesos\n",
        "    w = w + lr * -gradient_w\n",
        "    b = b + lr * -gradient_b\n",
        "\n",
        "    loss = sum(error)\n",
        "    print(loss)\n",
        "\n",
        "# Teste do modelo\n",
        "X_test = np.array([[5, 5], [6, 6], [7, 7]])\n",
        "y_test = np.dot(X_test, w) + b\n",
        "\n",
        "print(\"Predições: \", y_test)"
      ],
      "metadata": {
        "id": "QRh57BgNn1fh",
        "colab": {
          "base_uri": "https://localhost:8080/"
        },
        "outputId": "1faaf884-a7f0-4124-f230-f5a7388cddc8"
      },
      "execution_count": 6,
      "outputs": [
        {
          "output_type": "stream",
          "name": "stdout",
          "text": [
            "5.653845583355662\n",
            "-0.4906269228634106\n",
            "1.1265610056680835\n",
            "0.6610297040231734\n",
            "0.755626654289922\n",
            "0.7008063810489704\n",
            "0.6870273968496587\n",
            "0.6631288368674946\n",
            "0.6428173089881567\n",
            "0.6223856138772592\n",
            "0.6028024300510014\n",
            "0.5837819606437888\n",
            "0.5653760042639129\n",
            "0.5475465127521224\n",
            "0.5302803200351038\n",
            "0.513558317340125\n",
            "0.4973637053472144\n",
            "0.48167975625148285\n",
            "0.4664903927663129\n",
            "0.45178001156180514\n",
            "Predições:  [4.80251952 5.70752379 6.61252807]\n"
          ]
        }
      ]
    }
  ]
}