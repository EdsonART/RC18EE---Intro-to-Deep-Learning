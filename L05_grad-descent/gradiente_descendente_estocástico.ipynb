{
  "nbformat": 4,
  "nbformat_minor": 0,
  "metadata": {
    "colab": {
      "provenance": []
    },
    "kernelspec": {
      "name": "python3",
      "display_name": "Python 3"
    },
    "language_info": {
      "name": "python"
    }
  },
  "cells": [
    {
      "cell_type": "code",
      "source": [
        "import numpy as np\n",
        "\n",
        "# Dados de entrada\n",
        "X = np.array([[0, 0], [1, 1], [2, 2], [3, 3], [4, 4]])\n",
        "y = np.array([0, 1, 2, 3, 4])\n",
        "\n",
        "# Definir taxa de aprendizado e número de épocas\n",
        "lr = 0.1\n",
        "epochs = 20"
      ],
      "metadata": {
        "id": "QRh57BgNn1fh"
      },
      "execution_count": 22,
      "outputs": []
    },
    {
      "cell_type": "code",
      "execution_count": 23,
      "metadata": {
        "colab": {
          "base_uri": "https://localhost:8080/"
        },
        "id": "_SwJBqIrjlqV",
        "outputId": "31b0a7ff-e885-412e-feef-63ca0b5a7ed5"
      },
      "outputs": [
        {
          "output_type": "stream",
          "name": "stdout",
          "text": [
            "[1.9610416]\n",
            "[0.64271634]\n",
            "[0.40963266]\n",
            "[0.34025557]\n",
            "[0.29882939]\n",
            "[0.26499039]\n",
            "[0.23536097]\n",
            "[0.20910004]\n",
            "[0.18577739]\n",
            "[0.16505731]\n",
            "[0.14664835]\n",
            "[0.13029258]\n",
            "[0.11576098]\n",
            "[0.1028501]\n",
            "[0.09137918]\n",
            "[0.08118761]\n",
            "[0.07213272]\n",
            "[0.06408772]\n",
            "[0.05693998]\n",
            "[0.05058944]\n",
            "Predições:  [4.9176281  5.90115372 6.88467934]\n"
          ]
        }
      ],
      "source": [
        "# Inicialização dos pesos aleatoriamente\n",
        "np.random.seed(0)\n",
        "w = np.random.rand(2)\n",
        "b = np.random.rand(1)\n",
        "\n",
        "# Treinamento do modelo\n",
        "for e in range(epochs):\n",
        "    loss = 0\n",
        "    for i in range(len(X)):\n",
        "        \n",
        "        x_i = X[i,:]\n",
        "        y_i = y[i]\n",
        "        # Forward pass\n",
        "        y_pred = np.dot(x_i, w) + b\n",
        "\n",
        "        # Cálculo do erro\n",
        "        error = y_pred - y_i\n",
        "\n",
        "        # Cálculo do gradiente\n",
        "        gradient_w = error*x_i\n",
        "        gradient_b = error*1\n",
        "\n",
        "        # Atualização dos pesos\n",
        "        w = w + lr * -gradient_w\n",
        "        b = b + lr * -gradient_b\n",
        "\n",
        "        loss = loss+error\n",
        "    print(loss)\n",
        "\n",
        "# Teste do modelo\n",
        "X_test = np.array([[5, 5], [6, 6], [7, 7]])\n",
        "y_test = np.dot(X_test, w)\n",
        "\n",
        "print(\"Predições: \", y_test)"
      ]
    }
  ]
}